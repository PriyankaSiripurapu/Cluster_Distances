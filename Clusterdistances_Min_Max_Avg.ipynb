{
 "cells": [
  {
   "cell_type": "code",
   "execution_count": 1,
   "metadata": {},
   "outputs": [],
   "source": [
    "import numpy as np\n",
    "import sys"
   ]
  },
  {
   "cell_type": "code",
   "execution_count": 2,
   "metadata": {},
   "outputs": [],
   "source": [
    "def Euclidean_distance(point1, point2):\n",
    "    return np.sqrt(np.sum((point1 - point2) ** 2))"
   ]
  },
  {
   "cell_type": "code",
   "execution_count": 9,
   "metadata": {},
   "outputs": [],
   "source": [
    "X = np.array([[4.7,3.2],\n",
    "             [4.9,3.1],\n",
    "             [5.0,3.0],\n",
    "             [4.6,2.9],])\n",
    "Y = np.array([[5.9,3.2],\n",
    "             [6.7,3.1],\n",
    "             [6.0,3.0],\n",
    "             [6.2,2.8],])"
   ]
  },
  {
   "cell_type": "code",
   "execution_count": 13,
   "metadata": {},
   "outputs": [
    {
     "name": "stdout",
     "output_type": "stream",
     "text": [
      "final_max 2.1095\n",
      "final_min 0.922\n",
      "avg_distance 1.4129\n",
      "16\n"
     ]
    }
   ],
   "source": [
    "dist = []\n",
    "i = 0\n",
    "while(i < len(X)):\n",
    "    j = 0\n",
    "    while(j < len(Y)) :\n",
    "        dist.append(Euclidean_distance(X[i],Y[j]))\n",
    "        j = j+1\n",
    "    i = i+1\n",
    "\n",
    "print(\"final_max\",round(max(dist),4))\n",
    "print(\"final_min\",round(min(dist),4))\n",
    "print(\"avg_distance\",round(sum(dist)/len(dist),4))\n",
    "print(len(dist))"
   ]
  }
 ],
 "metadata": {
  "kernelspec": {
   "display_name": "Python 3",
   "language": "python",
   "name": "python3"
  },
  "language_info": {
   "codemirror_mode": {
    "name": "ipython",
    "version": 3
   },
   "file_extension": ".py",
   "mimetype": "text/x-python",
   "name": "python",
   "nbconvert_exporter": "python",
   "pygments_lexer": "ipython3",
   "version": "3.7.6"
  }
 },
 "nbformat": 4,
 "nbformat_minor": 4
}
